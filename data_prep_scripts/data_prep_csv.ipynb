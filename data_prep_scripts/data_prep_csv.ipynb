{
 "cells": [
  {
   "cell_type": "code",
   "execution_count": 1,
   "metadata": {
    "ExecuteTime": {
     "end_time": "2020-06-04T15:29:56.365913Z",
     "start_time": "2020-06-04T15:29:56.031066Z"
    }
   },
   "outputs": [],
   "source": [
    "import numpy as np\n",
    "import pandas as pd\n",
    "import os\n",
    "pd.set_option('display.max_columns', 50)\n",
    "pd.set_option('display.max_rows', 2000)"
   ]
  },
  {
   "cell_type": "code",
   "execution_count": 2,
   "metadata": {
    "ExecuteTime": {
     "end_time": "2020-06-04T15:29:56.371993Z",
     "start_time": "2020-06-04T15:29:56.368168Z"
    }
   },
   "outputs": [],
   "source": [
    "# Create directories\n",
    "current_wd = os.getcwd() #Path of current working directory\n",
    "try:\n",
    "    os.mkdir('{}/post_processed_data'.format(os.path.dirname(current_wd)))\n",
    "except:\n",
    "    pass"
   ]
  },
  {
   "cell_type": "markdown",
   "metadata": {},
   "source": [
    "# Creating Final DataFrame"
   ]
  },
  {
   "cell_type": "code",
   "execution_count": 3,
   "metadata": {
    "ExecuteTime": {
     "end_time": "2020-06-04T15:30:33.449201Z",
     "start_time": "2020-06-04T15:29:56.373735Z"
    }
   },
   "outputs": [],
   "source": [
    "df_2016 = pd.read_csv(\"../processed_data/df_2016.csv\", low_memory=False, \n",
    "                      usecols = ['HSCODE', 'COUNTRYEXPORT', 'CUSTOMSVALUE', \n",
    "                                 'CURRENCY', 'EXCHANGE_RATE',\n",
    "                                 'VAT_PAID', 'DUTIESTAXES', \n",
    "                                 'GOODSDESCRIPTION', 'month', 'year'])\n",
    "df_2017 = pd.read_csv(\"../processed_data/df_2017.csv\", low_memory=False,\n",
    "                      usecols = ['HSCODE', 'COUNTRYEXPORT', 'CUSTOMSVALUE', \n",
    "                                 'CURRENCY', 'EXCHANGE_RATE',\n",
    "                                 'VAT_PAID', 'DUTIESTAXES', \n",
    "                                 'GOODSDESCRIPTION', 'month', 'year'])\n",
    "df_2018 = pd.read_csv(\"../processed_data/df_2018.csv\", low_memory=False,\n",
    "                      usecols = ['HSCODE', 'COUNTRYEXPORT', 'CUSTOMSVALUE', \n",
    "                                 'CURRENCY', 'EXCHANGE_RATE',\n",
    "                                 'VAT_PAID', 'DUTIESTAXES', \n",
    "                                 'GOODSDESCRIPTION', 'month', 'year'])                      \n",
    "df_2019 = pd.read_csv(\"../processed_data/df_2019.csv\", low_memory=False,\n",
    "                      usecols = ['HSCODE', 'COUNTRYEXPORT', 'CUSTOMSVALUE', \n",
    "                                 'CURRENCY', 'EXCHANGE_RATE',\n",
    "                                 'VAT_PAID', 'DUTIESTAXES', \n",
    "                                 'GOODSDESCRIPTION', 'month', 'year'])                      \n",
    "df_2020 = pd.read_csv(\"../processed_data/df_2020.csv\", low_memory=False,\n",
    "                      usecols = ['HSCODE', 'COUNTRYEXPORT', 'CUSTOMSVALUE', \n",
    "                                 'CURRENCY', 'EXCHANGE_RATE',\n",
    "                                 'VAT_PAID', 'DUTIESTAXES', \n",
    "                                 'GOODSDESCRIPTION', 'month', 'year'])                      "
   ]
  },
  {
   "cell_type": "markdown",
   "metadata": {},
   "source": [
    "### Combine all years"
   ]
  },
  {
   "cell_type": "code",
   "execution_count": 4,
   "metadata": {
    "ExecuteTime": {
     "end_time": "2020-06-04T15:30:35.986898Z",
     "start_time": "2020-06-04T15:30:33.455188Z"
    }
   },
   "outputs": [
    {
     "name": "stdout",
     "output_type": "stream",
     "text": [
      "(13662638, 10)\n"
     ]
    },
    {
     "data": {
      "text/html": [
       "<div>\n",
       "<style scoped>\n",
       "    .dataframe tbody tr th:only-of-type {\n",
       "        vertical-align: middle;\n",
       "    }\n",
       "\n",
       "    .dataframe tbody tr th {\n",
       "        vertical-align: top;\n",
       "    }\n",
       "\n",
       "    .dataframe thead th {\n",
       "        text-align: right;\n",
       "    }\n",
       "</style>\n",
       "<table border=\"1\" class=\"dataframe\">\n",
       "  <thead>\n",
       "    <tr style=\"text-align: right;\">\n",
       "      <th></th>\n",
       "      <th>HSCODE</th>\n",
       "      <th>COUNTRYEXPORT</th>\n",
       "      <th>CUSTOMSVALUE</th>\n",
       "      <th>CURRENCY</th>\n",
       "      <th>EXCHANGE_RATE</th>\n",
       "      <th>VAT_PAID</th>\n",
       "      <th>DUTIESTAXES</th>\n",
       "      <th>GOODSDESCRIPTION</th>\n",
       "      <th>month</th>\n",
       "      <th>year</th>\n",
       "    </tr>\n",
       "  </thead>\n",
       "  <tbody>\n",
       "    <tr>\n",
       "      <th>0</th>\n",
       "      <td>38112900000</td>\n",
       "      <td>ITALY</td>\n",
       "      <td>73191.19</td>\n",
       "      <td>USD</td>\n",
       "      <td>45.782</td>\n",
       "      <td>470418.0</td>\n",
       "      <td>826078.0</td>\n",
       "      <td>LUBAD 1478</td>\n",
       "      <td>November</td>\n",
       "      <td>2016</td>\n",
       "    </tr>\n",
       "    <tr>\n",
       "      <th>1</th>\n",
       "      <td>87163999000</td>\n",
       "      <td>THAILAND</td>\n",
       "      <td>39600.00</td>\n",
       "      <td>USD</td>\n",
       "      <td>47.182</td>\n",
       "      <td>238570.0</td>\n",
       "      <td>296026.0</td>\n",
       "      <td>CAR TRAILER</td>\n",
       "      <td>November</td>\n",
       "      <td>2016</td>\n",
       "    </tr>\n",
       "    <tr>\n",
       "      <th>2</th>\n",
       "      <td>87163999000</td>\n",
       "      <td>CHINA</td>\n",
       "      <td>59400.00</td>\n",
       "      <td>USD</td>\n",
       "      <td>47.182</td>\n",
       "      <td>357477.0</td>\n",
       "      <td>443661.0</td>\n",
       "      <td>CAR TRAILER</td>\n",
       "      <td>November</td>\n",
       "      <td>2016</td>\n",
       "    </tr>\n",
       "    <tr>\n",
       "      <th>3</th>\n",
       "      <td>87163999000</td>\n",
       "      <td>CHINA</td>\n",
       "      <td>39600.00</td>\n",
       "      <td>USD</td>\n",
       "      <td>47.182</td>\n",
       "      <td>238570.0</td>\n",
       "      <td>296026.0</td>\n",
       "      <td>CAR TRAILER</td>\n",
       "      <td>November</td>\n",
       "      <td>2016</td>\n",
       "    </tr>\n",
       "    <tr>\n",
       "      <th>4</th>\n",
       "      <td>27111900000</td>\n",
       "      <td>CHINA</td>\n",
       "      <td>227495.55</td>\n",
       "      <td>USD</td>\n",
       "      <td>46.705</td>\n",
       "      <td>1623136.0</td>\n",
       "      <td>1623136.0</td>\n",
       "      <td>505.00  MT LIQUEFIED PETROLEUM GAS</td>\n",
       "      <td>November</td>\n",
       "      <td>2016</td>\n",
       "    </tr>\n",
       "  </tbody>\n",
       "</table>\n",
       "</div>"
      ],
      "text/plain": [
       "        HSCODE COUNTRYEXPORT  CUSTOMSVALUE CURRENCY  EXCHANGE_RATE   VAT_PAID  \\\n",
       "0  38112900000         ITALY      73191.19      USD         45.782   470418.0   \n",
       "1  87163999000      THAILAND      39600.00      USD         47.182   238570.0   \n",
       "2  87163999000         CHINA      59400.00      USD         47.182   357477.0   \n",
       "3  87163999000         CHINA      39600.00      USD         47.182   238570.0   \n",
       "4  27111900000         CHINA     227495.55      USD         46.705  1623136.0   \n",
       "\n",
       "   DUTIESTAXES                    GOODSDESCRIPTION     month  year  \n",
       "0     826078.0                          LUBAD 1478  November  2016  \n",
       "1     296026.0                         CAR TRAILER  November  2016  \n",
       "2     443661.0                         CAR TRAILER  November  2016  \n",
       "3     296026.0                         CAR TRAILER  November  2016  \n",
       "4    1623136.0  505.00  MT LIQUEFIED PETROLEUM GAS  November  2016  "
      ]
     },
     "execution_count": 4,
     "metadata": {},
     "output_type": "execute_result"
    }
   ],
   "source": [
    "df_all = df_2016.append([df_2017, df_2018, df_2019, df_2020])\n",
    "print(df_all.shape)\n",
    "df_all.head()"
   ]
  },
  {
   "cell_type": "markdown",
   "metadata": {},
   "source": [
    "### Add and remove columns"
   ]
  },
  {
   "cell_type": "code",
   "execution_count": 5,
   "metadata": {
    "ExecuteTime": {
     "end_time": "2020-06-04T15:30:36.000088Z",
     "start_time": "2020-06-04T15:30:35.990766Z"
    }
   },
   "outputs": [],
   "source": [
    "# Create goods categories\n",
    "import numpy as np\n",
    "def HS_categorize(hs):\n",
    "    hs_len = len(hs)\n",
    "    val = hs[:2-(11-hs_len)]\n",
    "    val = int(val)\n",
    "    \n",
    "    if val <  6:\n",
    "        cat = 'Animal & Animal Products'\n",
    "    elif val < 16:\n",
    "        cat = \"Vegetable Products\"\n",
    "    elif val < 25:\n",
    "        cat = \"Foodstuffs\"\n",
    "    elif val < 28:\n",
    "        cat = \"Mineral Products\"\n",
    "    elif val < 39:\n",
    "        cat = \"Chemicals & Allied Industries\"\n",
    "    elif val < 41:\n",
    "        cat = \"Plastics / Rubbers\"\n",
    "    elif val < 44:\n",
    "        cat = \"Raw Hides, Skins, Leather, & Furs\"\n",
    "    elif val < 50:\n",
    "        cat = \"Wood & Wood Products\"\n",
    "    elif val < 64:\n",
    "        cat = \"Textiles\"\n",
    "    elif val < 68:\n",
    "        cat = \"Footwear / Headgear\"\n",
    "    elif val < 72:\n",
    "        cat = \"Stone / Glass\"\n",
    "    elif val < 84:\n",
    "        cat = \"Metals\"\n",
    "    elif val < 86:\n",
    "        cat = \"Machinery / Electrical\"\n",
    "    elif val < 90:\n",
    "        cat = \"Transportation\"\n",
    "    elif val < 98:\n",
    "        cat = \"Miscellaneous\"\n",
    "    else:\n",
    "        cat = ''    \n",
    "    return cat"
   ]
  },
  {
   "cell_type": "code",
   "execution_count": 6,
   "metadata": {
    "ExecuteTime": {
     "end_time": "2020-06-04T15:31:03.073517Z",
     "start_time": "2020-06-04T15:30:36.002029Z"
    }
   },
   "outputs": [],
   "source": [
    "# add column for HSCode major category\n",
    "df_all['category'] = (df_all['HSCODE'].astype(str).apply(lambda x: HS_categorize(x)))"
   ]
  },
  {
   "cell_type": "code",
   "execution_count": 7,
   "metadata": {
    "ExecuteTime": {
     "end_time": "2020-06-04T15:31:17.414846Z",
     "start_time": "2020-06-04T15:31:03.076444Z"
    }
   },
   "outputs": [],
   "source": [
    "# Correct months\n",
    "df_all[\"month\"] = df_all[\"month\"].str.replace(r\"Jun$\", \"June\")\n",
    "df_all[\"month\"] = pd.to_datetime(df_all[\"month\"], format='%B').dt.month"
   ]
  },
  {
   "cell_type": "code",
   "execution_count": 8,
   "metadata": {
    "ExecuteTime": {
     "end_time": "2020-06-04T15:31:17.674475Z",
     "start_time": "2020-06-04T15:31:17.416891Z"
    }
   },
   "outputs": [],
   "source": [
    "# Add column for customs value in PHP\n",
    "df_all[\"CUSTOMSVALUEPHP\"] = (df_all[\"CUSTOMSVALUE\"] * \n",
    "                             df_all[\"EXCHANGE_RATE\"])"
   ]
  },
  {
   "cell_type": "code",
   "execution_count": 9,
   "metadata": {
    "ExecuteTime": {
     "end_time": "2020-06-04T15:31:21.664009Z",
     "start_time": "2020-06-04T15:31:17.676464Z"
    }
   },
   "outputs": [],
   "source": [
    "# Remove outlier\n",
    "df_final = df_all[df_all[\"VAT_PAID\"] != 538483406146]"
   ]
  },
  {
   "cell_type": "code",
   "execution_count": 10,
   "metadata": {
    "ExecuteTime": {
     "end_time": "2020-06-04T15:31:24.780085Z",
     "start_time": "2020-06-04T15:31:21.665974Z"
    }
   },
   "outputs": [
    {
     "name": "stdout",
     "output_type": "stream",
     "text": [
      "DataFrame size:\n",
      " (13662638, 12) \n",
      "\n",
      " Columns:\n",
      " Index(['HSCODE', 'COUNTRYEXPORT', 'CUSTOMSVALUE', 'CURRENCY', 'EXCHANGE_RATE',\n",
      "       'VAT_PAID', 'DUTIESTAXES', 'GOODSDESCRIPTION', 'month', 'year',\n",
      "       'category', 'CUSTOMSVALUEPHP'],\n",
      "      dtype='object') \n",
      "\n",
      " Missing values:\n",
      "HSCODE                    0\n",
      "COUNTRYEXPORT         31845\n",
      "CUSTOMSVALUE              0\n",
      "CURRENCY                  0\n",
      "EXCHANGE_RATE             0\n",
      "VAT_PAID                  0\n",
      "DUTIESTAXES               0\n",
      "GOODSDESCRIPTION    1187408\n",
      "month                     0\n",
      "year                      0\n",
      "category                  0\n",
      "CUSTOMSVALUEPHP           0\n",
      "dtype: int64\n"
     ]
    }
   ],
   "source": [
    "# Check final data\n",
    "print(f'DataFrame size:\\n {df_final.shape}', \"\\n\\n\",\n",
    "      f'Columns:\\n {df_final.columns}', \"\\n\\n\",\n",
    "      f'Missing values:\\n{df_final.isna().sum()}')"
   ]
  },
  {
   "cell_type": "code",
   "execution_count": 11,
   "metadata": {
    "ExecuteTime": {
     "end_time": "2020-06-04T15:31:24.783803Z",
     "start_time": "2020-06-04T15:31:24.781842Z"
    }
   },
   "outputs": [],
   "source": [
    "# Save to csv\n",
    "# df_final.to_csv(\"df_complete.csv\")"
   ]
  },
  {
   "cell_type": "markdown",
   "metadata": {
    "ExecuteTime": {
     "start_time": "2020-05-31T06:50:42.161Z"
    }
   },
   "source": [
    "# Creating Sub-DataFrames"
   ]
  },
  {
   "cell_type": "markdown",
   "metadata": {},
   "source": [
    "### Dataframe of Customs Value in PHP by Category and Country"
   ]
  },
  {
   "cell_type": "code",
   "execution_count": 14,
   "metadata": {
    "ExecuteTime": {
     "end_time": "2020-06-04T15:31:30.431729Z",
     "start_time": "2020-06-04T15:31:27.617464Z"
    }
   },
   "outputs": [],
   "source": [
    "# Create the DataFrame\n",
    "df_cat = (df_final.groupby([\"category\", \"COUNTRYEXPORT\"])[\"CUSTOMSVALUEPHP\"]\n",
    "                  .sum()\n",
    "                  .to_frame()\n",
    "                  .sort_values(by=[\"category\", \"CUSTOMSVALUEPHP\"], \n",
    "                               ascending=False)\n",
    "                  .reset_index())\n",
    "\n",
    "# Save the DataFrame to CSV\n",
    "df_cat.to_csv('../post_processed_data/df_categories.csv')"
   ]
  },
  {
   "cell_type": "code",
   "execution_count": 15,
   "metadata": {
    "ExecuteTime": {
     "end_time": "2020-06-04T15:31:30.443172Z",
     "start_time": "2020-06-04T15:31:30.433529Z"
    }
   },
   "outputs": [
    {
     "name": "stdout",
     "output_type": "stream",
     "text": [
      "(1891, 3)\n"
     ]
    },
    {
     "data": {
      "text/html": [
       "<div>\n",
       "<style scoped>\n",
       "    .dataframe tbody tr th:only-of-type {\n",
       "        vertical-align: middle;\n",
       "    }\n",
       "\n",
       "    .dataframe tbody tr th {\n",
       "        vertical-align: top;\n",
       "    }\n",
       "\n",
       "    .dataframe thead th {\n",
       "        text-align: right;\n",
       "    }\n",
       "</style>\n",
       "<table border=\"1\" class=\"dataframe\">\n",
       "  <thead>\n",
       "    <tr style=\"text-align: right;\">\n",
       "      <th></th>\n",
       "      <th>category</th>\n",
       "      <th>COUNTRYEXPORT</th>\n",
       "      <th>CUSTOMSVALUEPHP</th>\n",
       "    </tr>\n",
       "  </thead>\n",
       "  <tbody>\n",
       "    <tr>\n",
       "      <th>0</th>\n",
       "      <td>Wood &amp; Wood Products</td>\n",
       "      <td>CHINA</td>\n",
       "      <td>9.212842e+10</td>\n",
       "    </tr>\n",
       "    <tr>\n",
       "      <th>1</th>\n",
       "      <td>Wood &amp; Wood Products</td>\n",
       "      <td>JAPAN</td>\n",
       "      <td>4.142808e+10</td>\n",
       "    </tr>\n",
       "    <tr>\n",
       "      <th>2</th>\n",
       "      <td>Wood &amp; Wood Products</td>\n",
       "      <td>UNITED STATES</td>\n",
       "      <td>3.660046e+10</td>\n",
       "    </tr>\n",
       "    <tr>\n",
       "      <th>3</th>\n",
       "      <td>Wood &amp; Wood Products</td>\n",
       "      <td>INDONESIA</td>\n",
       "      <td>3.500651e+10</td>\n",
       "    </tr>\n",
       "    <tr>\n",
       "      <th>4</th>\n",
       "      <td>Wood &amp; Wood Products</td>\n",
       "      <td>CANADA</td>\n",
       "      <td>3.140574e+10</td>\n",
       "    </tr>\n",
       "  </tbody>\n",
       "</table>\n",
       "</div>"
      ],
      "text/plain": [
       "               category  COUNTRYEXPORT  CUSTOMSVALUEPHP\n",
       "0  Wood & Wood Products          CHINA     9.212842e+10\n",
       "1  Wood & Wood Products          JAPAN     4.142808e+10\n",
       "2  Wood & Wood Products  UNITED STATES     3.660046e+10\n",
       "3  Wood & Wood Products      INDONESIA     3.500651e+10\n",
       "4  Wood & Wood Products         CANADA     3.140574e+10"
      ]
     },
     "execution_count": 15,
     "metadata": {},
     "output_type": "execute_result"
    }
   ],
   "source": [
    "print(df_cat.shape)\n",
    "df_cat.head()"
   ]
  },
  {
   "cell_type": "markdown",
   "metadata": {},
   "source": [
    "### Dataframe of Customs Value Comparison by Category"
   ]
  },
  {
   "cell_type": "code",
   "execution_count": 16,
   "metadata": {
    "ExecuteTime": {
     "end_time": "2020-06-04T15:31:35.031933Z",
     "start_time": "2020-06-04T15:31:30.445002Z"
    }
   },
   "outputs": [],
   "source": [
    "# Create dataframe without China\n",
    "df_nc = df_final[df_final[\"COUNTRYEXPORT\"] != \"CHINA\"]\n",
    "\n",
    "# Get grouped value per category\n",
    "cat_tax = df_final.groupby(\"category\")[\"CUSTOMSVALUEPHP\"].sum().to_frame()\n",
    "nc_tax  = df_nc.groupby(\"category\")[\"CUSTOMSVALUEPHP\"].sum().to_frame()\n",
    "add_tot = pd.DataFrame({\"w_China\" : df_final[\"CUSTOMSVALUEPHP\"].sum(), \n",
    "                        \"wo_China\" : df_nc[\"CUSTOMSVALUEPHP\"].sum()},\n",
    "                        index=[\"total\"])\n",
    "\n",
    "# Combine columns to one dataframe\n",
    "df_comp = cat_tax.merge(nc_tax, on=\"category\")\n",
    "df_comp.columns = [\"w_China\", \"wo_China\"]\n",
    "df_comp = df_comp.append(add_tot)\n",
    "\n",
    "# Add column for difference\n",
    "df_comp[\"diff\"] = ((df_comp[\"w_China\"] - \n",
    "                    df_comp[\"wo_China\"]) / \n",
    "                    df_comp[\"w_China\"]*100)\n",
    "df_comp = df_comp.reset_index().rename(columns={'index':'category'})\n",
    "\n",
    "# Save the DataFrame to CSV\n",
    "df_comp.to_csv(\"../post_processed_data/df_china_comparison.csv\")"
   ]
  },
  {
   "cell_type": "code",
   "execution_count": 17,
   "metadata": {
    "ExecuteTime": {
     "end_time": "2020-06-04T15:31:35.044248Z",
     "start_time": "2020-06-04T15:31:35.033840Z"
    }
   },
   "outputs": [
    {
     "name": "stdout",
     "output_type": "stream",
     "text": [
      "(16, 4)\n"
     ]
    },
    {
     "data": {
      "text/html": [
       "<div>\n",
       "<style scoped>\n",
       "    .dataframe tbody tr th:only-of-type {\n",
       "        vertical-align: middle;\n",
       "    }\n",
       "\n",
       "    .dataframe tbody tr th {\n",
       "        vertical-align: top;\n",
       "    }\n",
       "\n",
       "    .dataframe thead th {\n",
       "        text-align: right;\n",
       "    }\n",
       "</style>\n",
       "<table border=\"1\" class=\"dataframe\">\n",
       "  <thead>\n",
       "    <tr style=\"text-align: right;\">\n",
       "      <th></th>\n",
       "      <th>category</th>\n",
       "      <th>w_China</th>\n",
       "      <th>wo_China</th>\n",
       "      <th>diff</th>\n",
       "    </tr>\n",
       "  </thead>\n",
       "  <tbody>\n",
       "    <tr>\n",
       "      <th>0</th>\n",
       "      <td>Animal &amp; Animal Products</td>\n",
       "      <td>5.340851e+11</td>\n",
       "      <td>5.013400e+11</td>\n",
       "      <td>6.131062</td>\n",
       "    </tr>\n",
       "    <tr>\n",
       "      <th>1</th>\n",
       "      <td>Chemicals &amp; Allied Industries</td>\n",
       "      <td>1.508835e+12</td>\n",
       "      <td>1.260627e+12</td>\n",
       "      <td>16.450297</td>\n",
       "    </tr>\n",
       "    <tr>\n",
       "      <th>2</th>\n",
       "      <td>Foodstuffs</td>\n",
       "      <td>1.052901e+12</td>\n",
       "      <td>9.574616e+11</td>\n",
       "      <td>9.064444</td>\n",
       "    </tr>\n",
       "    <tr>\n",
       "      <th>3</th>\n",
       "      <td>Footwear / Headgear</td>\n",
       "      <td>8.639757e+10</td>\n",
       "      <td>3.173422e+10</td>\n",
       "      <td>63.269539</td>\n",
       "    </tr>\n",
       "    <tr>\n",
       "      <th>4</th>\n",
       "      <td>Machinery / Electrical</td>\n",
       "      <td>7.318975e+12</td>\n",
       "      <td>6.004644e+12</td>\n",
       "      <td>17.957850</td>\n",
       "    </tr>\n",
       "  </tbody>\n",
       "</table>\n",
       "</div>"
      ],
      "text/plain": [
       "                        category       w_China      wo_China       diff\n",
       "0       Animal & Animal Products  5.340851e+11  5.013400e+11   6.131062\n",
       "1  Chemicals & Allied Industries  1.508835e+12  1.260627e+12  16.450297\n",
       "2                     Foodstuffs  1.052901e+12  9.574616e+11   9.064444\n",
       "3            Footwear / Headgear  8.639757e+10  3.173422e+10  63.269539\n",
       "4         Machinery / Electrical  7.318975e+12  6.004644e+12  17.957850"
      ]
     },
     "execution_count": 17,
     "metadata": {},
     "output_type": "execute_result"
    }
   ],
   "source": [
    "print(df_comp.shape)\n",
    "df_comp.head()"
   ]
  },
  {
   "cell_type": "markdown",
   "metadata": {
    "ExecuteTime": {
     "end_time": "2020-06-04T09:11:05.874577Z",
     "start_time": "2020-06-04T09:11:05.871709Z"
    }
   },
   "source": [
    "### Dataframe of Category by Customs Value"
   ]
  },
  {
   "cell_type": "code",
   "execution_count": 18,
   "metadata": {
    "ExecuteTime": {
     "end_time": "2020-06-04T15:31:36.312331Z",
     "start_time": "2020-06-04T15:31:35.045809Z"
    }
   },
   "outputs": [],
   "source": [
    "# Group categories by the customs value in pesos.\n",
    "most_imported_category = (df_final.groupby('category')['CUSTOMSVALUEPHP']\n",
    "                                  .sum()\n",
    "                                  .sort_values(ascending=False))\n",
    "# Saves dataframe to CSV\n",
    "most_imported_category.to_csv(\n",
    "    \"../post_processed_data/most_imported_by_value.csv\")"
   ]
  },
  {
   "cell_type": "markdown",
   "metadata": {},
   "source": [
    "## Word Clouds Pre-processing"
   ]
  },
  {
   "cell_type": "code",
   "execution_count": 19,
   "metadata": {
    "ExecuteTime": {
     "end_time": "2020-06-04T15:31:37.883017Z",
     "start_time": "2020-06-04T15:31:36.314294Z"
    }
   },
   "outputs": [
    {
     "data": {
      "text/html": [
       "<div>\n",
       "<style scoped>\n",
       "    .dataframe tbody tr th:only-of-type {\n",
       "        vertical-align: middle;\n",
       "    }\n",
       "\n",
       "    .dataframe tbody tr th {\n",
       "        vertical-align: top;\n",
       "    }\n",
       "\n",
       "    .dataframe thead th {\n",
       "        text-align: right;\n",
       "    }\n",
       "</style>\n",
       "<table border=\"1\" class=\"dataframe\">\n",
       "  <thead>\n",
       "    <tr style=\"text-align: right;\">\n",
       "      <th></th>\n",
       "      <th>category</th>\n",
       "      <th>HSCODE</th>\n",
       "      <th>GOODSDESCRIPTION</th>\n",
       "    </tr>\n",
       "  </thead>\n",
       "  <tbody>\n",
       "    <tr>\n",
       "      <th>0</th>\n",
       "      <td>Chemicals &amp; Allied Industries</td>\n",
       "      <td>38112900000</td>\n",
       "      <td>LUBAD 1478</td>\n",
       "    </tr>\n",
       "    <tr>\n",
       "      <th>1</th>\n",
       "      <td>Transportation</td>\n",
       "      <td>87163999000</td>\n",
       "      <td>CAR TRAILER</td>\n",
       "    </tr>\n",
       "    <tr>\n",
       "      <th>2</th>\n",
       "      <td>Transportation</td>\n",
       "      <td>87163999000</td>\n",
       "      <td>CAR TRAILER</td>\n",
       "    </tr>\n",
       "    <tr>\n",
       "      <th>3</th>\n",
       "      <td>Transportation</td>\n",
       "      <td>87163999000</td>\n",
       "      <td>CAR TRAILER</td>\n",
       "    </tr>\n",
       "    <tr>\n",
       "      <th>4</th>\n",
       "      <td>Mineral Products</td>\n",
       "      <td>27111900000</td>\n",
       "      <td>505.00  MT LIQUEFIED PETROLEUM GAS</td>\n",
       "    </tr>\n",
       "    <tr>\n",
       "      <th>...</th>\n",
       "      <td>...</td>\n",
       "      <td>...</td>\n",
       "      <td>...</td>\n",
       "    </tr>\n",
       "    <tr>\n",
       "      <th>13662633</th>\n",
       "      <td>Mineral Products</td>\n",
       "      <td>27111900000</td>\n",
       "      <td>LPG MIXTURES</td>\n",
       "    </tr>\n",
       "    <tr>\n",
       "      <th>13662634</th>\n",
       "      <td>Mineral Products</td>\n",
       "      <td>27111900000</td>\n",
       "      <td>LPG MIXTURES</td>\n",
       "    </tr>\n",
       "    <tr>\n",
       "      <th>13662635</th>\n",
       "      <td>Mineral Products</td>\n",
       "      <td>27011290000</td>\n",
       "      <td>71,499 MT OF PINANG COAL</td>\n",
       "    </tr>\n",
       "    <tr>\n",
       "      <th>13662636</th>\n",
       "      <td>Mineral Products</td>\n",
       "      <td>27011290000</td>\n",
       "      <td>69,950 MT OF PINANG COAL</td>\n",
       "    </tr>\n",
       "    <tr>\n",
       "      <th>13662637</th>\n",
       "      <td>Mineral Products</td>\n",
       "      <td>27011290000</td>\n",
       "      <td>71,500MT  TRUBA COAL</td>\n",
       "    </tr>\n",
       "  </tbody>\n",
       "</table>\n",
       "<p>13662638 rows × 3 columns</p>\n",
       "</div>"
      ],
      "text/plain": [
       "                               category       HSCODE  \\\n",
       "0         Chemicals & Allied Industries  38112900000   \n",
       "1                        Transportation  87163999000   \n",
       "2                        Transportation  87163999000   \n",
       "3                        Transportation  87163999000   \n",
       "4                      Mineral Products  27111900000   \n",
       "...                                 ...          ...   \n",
       "13662633               Mineral Products  27111900000   \n",
       "13662634               Mineral Products  27111900000   \n",
       "13662635               Mineral Products  27011290000   \n",
       "13662636               Mineral Products  27011290000   \n",
       "13662637               Mineral Products  27011290000   \n",
       "\n",
       "                            GOODSDESCRIPTION  \n",
       "0                                 LUBAD 1478  \n",
       "1                                CAR TRAILER  \n",
       "2                                CAR TRAILER  \n",
       "3                                CAR TRAILER  \n",
       "4         505.00  MT LIQUEFIED PETROLEUM GAS  \n",
       "...                                      ...  \n",
       "13662633                        LPG MIXTURES  \n",
       "13662634                        LPG MIXTURES  \n",
       "13662635            71,499 MT OF PINANG COAL  \n",
       "13662636            69,950 MT OF PINANG COAL  \n",
       "13662637                71,500MT  TRUBA COAL  \n",
       "\n",
       "[13662638 rows x 3 columns]"
      ]
     },
     "metadata": {},
     "output_type": "display_data"
    }
   ],
   "source": [
    "# Choose columns from main DataFrame\n",
    "df_wc_prep = (df_final[['category', 'HSCODE', 'GOODSDESCRIPTION']]\n",
    "              .reset_index(drop=True).copy())\n",
    "display(df_wc_prep)"
   ]
  },
  {
   "cell_type": "code",
   "execution_count": 20,
   "metadata": {
    "ExecuteTime": {
     "end_time": "2020-06-04T15:32:43.464989Z",
     "start_time": "2020-06-04T15:31:37.884776Z"
    },
    "scrolled": false
   },
   "outputs": [
    {
     "name": "stderr",
     "output_type": "stream",
     "text": [
      "/opt/conda/lib/python3.7/site-packages/IPython/core/interactiveshell.py:3063: DtypeWarning: Columns (40) have mixed types.Specify dtype option on import or set low_memory=False.\n",
      "  interactivity=interactivity, compiler=compiler, result=result)\n"
     ]
    },
    {
     "data": {
      "text/html": [
       "<div>\n",
       "<style scoped>\n",
       "    .dataframe tbody tr th:only-of-type {\n",
       "        vertical-align: middle;\n",
       "    }\n",
       "\n",
       "    .dataframe tbody tr th {\n",
       "        vertical-align: top;\n",
       "    }\n",
       "\n",
       "    .dataframe thead th {\n",
       "        text-align: right;\n",
       "    }\n",
       "</style>\n",
       "<table border=\"1\" class=\"dataframe\">\n",
       "  <thead>\n",
       "    <tr style=\"text-align: right;\">\n",
       "      <th></th>\n",
       "      <th>H6DESC</th>\n",
       "      <th>GOODSDESCRIPTION</th>\n",
       "    </tr>\n",
       "    <tr>\n",
       "      <th>category</th>\n",
       "      <th></th>\n",
       "      <th></th>\n",
       "    </tr>\n",
       "  </thead>\n",
       "  <tbody>\n",
       "    <tr>\n",
       "      <th>Chemicals &amp; Allied Industries</th>\n",
       "      <td>Miscellaneous chemical products Anti-knock pre...</td>\n",
       "      <td>LUBAD 1478</td>\n",
       "    </tr>\n",
       "    <tr>\n",
       "      <th>Transportation</th>\n",
       "      <td>Vehicles others than railway or tramway rollin...</td>\n",
       "      <td>CAR TRAILER</td>\n",
       "    </tr>\n",
       "    <tr>\n",
       "      <th>Transportation</th>\n",
       "      <td>Vehicles others than railway or tramway rollin...</td>\n",
       "      <td>CAR TRAILER</td>\n",
       "    </tr>\n",
       "    <tr>\n",
       "      <th>Transportation</th>\n",
       "      <td>Vehicles others than railway or tramway rollin...</td>\n",
       "      <td>CAR TRAILER</td>\n",
       "    </tr>\n",
       "    <tr>\n",
       "      <th>Mineral Products</th>\n",
       "      <td>Mineral fuels, mineral oils and products of th...</td>\n",
       "      <td>505.00  MT LIQUEFIED PETROLEUM GAS</td>\n",
       "    </tr>\n",
       "    <tr>\n",
       "      <th>...</th>\n",
       "      <td>...</td>\n",
       "      <td>...</td>\n",
       "    </tr>\n",
       "    <tr>\n",
       "      <th>Mineral Products</th>\n",
       "      <td>Mineral fuels, mineral oils and products of th...</td>\n",
       "      <td>LPG MIXTURES</td>\n",
       "    </tr>\n",
       "    <tr>\n",
       "      <th>Mineral Products</th>\n",
       "      <td>Mineral fuels, mineral oils and products of th...</td>\n",
       "      <td>LPG MIXTURES</td>\n",
       "    </tr>\n",
       "    <tr>\n",
       "      <th>Mineral Products</th>\n",
       "      <td>Mineral fuels, mineral oils and products of th...</td>\n",
       "      <td>71,499 MT OF PINANG COAL</td>\n",
       "    </tr>\n",
       "    <tr>\n",
       "      <th>Mineral Products</th>\n",
       "      <td>Mineral fuels, mineral oils and products of th...</td>\n",
       "      <td>69,950 MT OF PINANG COAL</td>\n",
       "    </tr>\n",
       "    <tr>\n",
       "      <th>Mineral Products</th>\n",
       "      <td>Mineral fuels, mineral oils and products of th...</td>\n",
       "      <td>71,500MT  TRUBA COAL</td>\n",
       "    </tr>\n",
       "  </tbody>\n",
       "</table>\n",
       "<p>13662638 rows × 2 columns</p>\n",
       "</div>"
      ],
      "text/plain": [
       "                                                                          H6DESC  \\\n",
       "category                                                                           \n",
       "Chemicals & Allied Industries  Miscellaneous chemical products Anti-knock pre...   \n",
       "Transportation                 Vehicles others than railway or tramway rollin...   \n",
       "Transportation                 Vehicles others than railway or tramway rollin...   \n",
       "Transportation                 Vehicles others than railway or tramway rollin...   \n",
       "Mineral Products               Mineral fuels, mineral oils and products of th...   \n",
       "...                                                                          ...   \n",
       "Mineral Products               Mineral fuels, mineral oils and products of th...   \n",
       "Mineral Products               Mineral fuels, mineral oils and products of th...   \n",
       "Mineral Products               Mineral fuels, mineral oils and products of th...   \n",
       "Mineral Products               Mineral fuels, mineral oils and products of th...   \n",
       "Mineral Products               Mineral fuels, mineral oils and products of th...   \n",
       "\n",
       "                                                 GOODSDESCRIPTION  \n",
       "category                                                           \n",
       "Chemicals & Allied Industries                          LUBAD 1478  \n",
       "Transportation                                        CAR TRAILER  \n",
       "Transportation                                        CAR TRAILER  \n",
       "Transportation                                        CAR TRAILER  \n",
       "Mineral Products               505.00  MT LIQUEFIED PETROLEUM GAS  \n",
       "...                                                           ...  \n",
       "Mineral Products                                     LPG MIXTURES  \n",
       "Mineral Products                                     LPG MIXTURES  \n",
       "Mineral Products                         71,499 MT OF PINANG COAL  \n",
       "Mineral Products                         69,950 MT OF PINANG COAL  \n",
       "Mineral Products                             71,500MT  TRUBA COAL  \n",
       "\n",
       "[13662638 rows x 2 columns]"
      ]
     },
     "metadata": {},
     "output_type": "display_data"
    }
   ],
   "source": [
    "# Create H6 reference\n",
    "hscode = (pd.read_csv('../processed_data/df_2017_complete.csv',\n",
    "                      usecols=['HSCODE6'])\n",
    "          .dropna(how='all', axis=0).drop_duplicates())\n",
    "\n",
    "hscode = (hscode.merge(hscode['HSCODE6']\n",
    "                       .apply(lambda s: pd.Series({'H6': s[:6],\n",
    "                                                   'H6DESC': s[7:]})),\n",
    "                       left_index=True, right_index=True))\n",
    "\n",
    "del hscode['HSCODE6']\n",
    "\n",
    "h6 = hscode[['H6', 'H6DESC']].drop_duplicates().reset_index(drop=True).copy()\n",
    "\n",
    "h6['H6'] = h6['H6'].astype(str)\n",
    "\n",
    "# Get H6 Description for main data\n",
    "dfHS = (df_wc_prep['HSCODE'].astype(str).apply(lambda x: x.zfill(11)[:6])\n",
    "        .copy().rename('H6').to_frame())\n",
    "\n",
    "dfHS['H6'] = dfHS['H6'].astype(int)\n",
    "h6['H6'] = h6['H6'].astype(int)\n",
    "\n",
    "dfHS = (dfHS.merge(h6, how='left', on='H6')\n",
    "        .join(df_wc_prep)\n",
    "        .set_index(['category']))\n",
    "\n",
    "del dfHS['H6']\n",
    "del dfHS['HSCODE']\n",
    "display(dfHS)"
   ]
  },
  {
   "cell_type": "code",
   "execution_count": 21,
   "metadata": {
    "ExecuteTime": {
     "end_time": "2020-06-04T15:32:47.248139Z",
     "start_time": "2020-06-04T15:32:43.467119Z"
    }
   },
   "outputs": [
    {
     "name": "stderr",
     "output_type": "stream",
     "text": [
      "[nltk_data] Downloading package stopwords to\n",
      "[nltk_data]     /home/msds2021/jpangan/nltk_data...\n",
      "[nltk_data]   Unzipping corpora/stopwords.zip.\n"
     ]
    }
   ],
   "source": [
    "# WordCloud Libraries and Stopwords\n",
    "from nltk.corpus import stopwords\n",
    "import nltk\n",
    "import matplotlib.pyplot as plt\n",
    "from wordcloud import WordCloud, STOPWORDS, ImageColorGenerator\n",
    "from PIL import Image\n",
    "import string\n",
    "\n",
    "# Retrieve Stopwords\n",
    "mystopwords = list(STOPWORDS)\n",
    "nltk.download('stopwords')\n",
    "stopwords_nltk = set(stopwords.words(\"english\"))\n",
    "mystopwords = mystopwords + list(stopwords_nltk) + ['articles']\n",
    "mystopwords = set(mystopwords)"
   ]
  },
  {
   "cell_type": "code",
   "execution_count": 22,
   "metadata": {
    "ExecuteTime": {
     "end_time": "2020-06-04T15:37:31.775849Z",
     "start_time": "2020-06-04T15:32:47.250451Z"
    }
   },
   "outputs": [],
   "source": [
    "# Create word count dictionary (H6)\n",
    "from collections import Counter\n",
    "import string\n",
    "\n",
    "# Create an empty Dataframe with column names only\n",
    "dfH6 = pd.DataFrame(columns=['category', 'word', 'count'])\n",
    "dfH6.set_index(['category', 'word'], inplace=True)\n",
    "\n",
    "# Collect and Append Counts to DataFrame\n",
    "for idx, midx in enumerate(dfHS.index.unique()):\n",
    "\n",
    "    s = (dfHS.loc[midx]['H6DESC'].to_string(index=False, header=False)\n",
    "         .lower().translate(str.maketrans('', '', string.punctuation))\n",
    "         .split())\n",
    "\n",
    "    ds = (dict((k, v) for k, v in Counter(s).items() if\n",
    "               ((k not in list(mystopwords)) and (len(k) > 3) and\n",
    "                (k.isnumeric() == False))))\n",
    "\n",
    "    ds = sorted(ds.items(), key=lambda x: (-x[1], x[0]))\n",
    "\n",
    "    ds = pd.DataFrame(ds, columns=['word', 'count'])\n",
    "\n",
    "    ds['category'] = midx\n",
    "\n",
    "    ds.set_index(['category', 'word'], inplace=True)\n",
    "\n",
    "    dfH6 = pd.concat([dfH6, ds])"
   ]
  },
  {
   "cell_type": "code",
   "execution_count": 23,
   "metadata": {
    "ExecuteTime": {
     "end_time": "2020-06-04T15:37:31.786169Z",
     "start_time": "2020-06-04T15:37:31.778384Z"
    }
   },
   "outputs": [],
   "source": [
    "# Output to CSV file\n",
    "dfH6.to_csv('../post_processed_data/WCData_H6.csv')"
   ]
  },
  {
   "cell_type": "code",
   "execution_count": 24,
   "metadata": {
    "ExecuteTime": {
     "end_time": "2020-06-04T15:40:09.451851Z",
     "start_time": "2020-06-04T15:37:31.788049Z"
    }
   },
   "outputs": [],
   "source": [
    "# Create word count dictionary (GD)\n",
    "from collections import Counter\n",
    "import string\n",
    "\n",
    "# Creating an empty Dataframe with column names only\n",
    "\n",
    "dfGD = pd.DataFrame(columns=['category', 'word', 'count'])\n",
    "dfGD.set_index(['category', 'word'], inplace=True)\n",
    "\n",
    "# Collect and Append Counts to DataFrame\n",
    "for idx, midx in enumerate(['Machinery / Electrical', \n",
    "                            'Mineral Products', 'Transportation']):\n",
    "\n",
    "    s = (dfHS.loc[midx]['GOODSDESCRIPTION']\n",
    "         .to_string(index=False, header=False)\n",
    "         .lower()\n",
    "         .translate(str.maketrans('', '', string.punctuation))\n",
    "         .split())\n",
    "\n",
    "    ds = (dict((k, v) for k, v in Counter(s).items() if\n",
    "               ((k not in list(mystopwords)) and (len(k) > 3) and\n",
    "                (k.isnumeric() == False))))\n",
    "\n",
    "    ds = sorted(ds.items(), key=lambda x: (-x[1], x[0]))\n",
    "\n",
    "    ds = pd.DataFrame(ds, columns=['word', 'count'])\n",
    "\n",
    "    ds['category'] = midx\n",
    "\n",
    "    ds.set_index(['category', 'word'], inplace=True)\n",
    "\n",
    "    dfGD = pd.concat([dfGD, ds])"
   ]
  },
  {
   "cell_type": "code",
   "execution_count": 25,
   "metadata": {
    "ExecuteTime": {
     "end_time": "2020-06-04T15:40:13.204922Z",
     "start_time": "2020-06-04T15:40:09.454493Z"
    }
   },
   "outputs": [],
   "source": [
    "# Output to CSV file\n",
    "dfGD.to_csv('../post_processed_data/WCData_GD.csv')"
   ]
  }
 ],
 "metadata": {
  "kernelspec": {
   "display_name": "Python 3",
   "language": "python",
   "name": "python3"
  },
  "language_info": {
   "codemirror_mode": {
    "name": "ipython",
    "version": 3
   },
   "file_extension": ".py",
   "mimetype": "text/x-python",
   "name": "python",
   "nbconvert_exporter": "python",
   "pygments_lexer": "ipython3",
   "version": "3.7.6"
  }
 },
 "nbformat": 4,
 "nbformat_minor": 4
}
