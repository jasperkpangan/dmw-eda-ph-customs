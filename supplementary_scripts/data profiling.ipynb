{
 "cells": [
  {
   "cell_type": "code",
   "execution_count": 5,
   "metadata": {
    "ExecuteTime": {
     "end_time": "2020-06-04T01:49:37.708679Z",
     "start_time": "2020-06-04T01:49:36.965270Z"
    }
   },
   "outputs": [],
   "source": [
    "import os\n",
    "import re\n",
    "import csv\n",
    "import openpyxl\n",
    "import pandas as pd\n",
    "from openpyxl import load_workbook"
   ]
  },
  {
   "cell_type": "markdown",
   "metadata": {},
   "source": [
    "### Data Profiling\n",
    "Data profiling was performed on the raw files in the path `/mnt/data/public/customs`. The scope of the data profiling involved:\n",
    "- Identify number of files in the path\n",
    "- Identify covered period per file\n",
    "- Identify the number of sheets per file\n",
    "- Investigate files that are not in the expected* format\n",
    "- Convert .xlsx to .csv and save them to path"
   ]
  },
  {
   "cell_type": "code",
   "execution_count": 8,
   "metadata": {
    "ExecuteTime": {
     "end_time": "2020-06-04T01:52:04.313639Z",
     "start_time": "2020-06-04T01:52:04.305901Z"
    }
   },
   "outputs": [],
   "source": [
    "# Define global variables\n",
    "root = '/mnt/data/public/customs/' #Path of customs data\n",
    "current_wd = os.getcwd() #Path of current working directory\n",
    "\n",
    "# Create directories\n",
    "try:\n",
    "    os.mkdir('{}/converted_csv_data'.format(os.path.dirname(current_wd)))\n",
    "except:\n",
    "    pass\n",
    "\n",
    "try:\n",
    "    os.mkdir('{}/misc'.format(os.path.dirname(current_wd)))\n",
    "except:\n",
    "    pass"
   ]
  },
  {
   "cell_type": "code",
   "execution_count": 3,
   "metadata": {
    "ExecuteTime": {
     "end_time": "2020-05-28T08:46:58.900093Z",
     "start_time": "2020-05-28T08:46:58.886495Z"
    }
   },
   "outputs": [
    {
     "data": {
      "text/plain": [
       "93"
      ]
     },
     "execution_count": 3,
     "metadata": {},
     "output_type": "execute_result"
    }
   ],
   "source": [
    "# Create a list of all .xlsx files in /mnt/data/public/customs/\n",
    "files = os.listdir(root)\n",
    "files = [file for file in files if 'xlsx' in file]\n",
    "len(files)"
   ]
  },
  {
   "cell_type": "code",
   "execution_count": 5,
   "metadata": {
    "ExecuteTime": {
     "end_time": "2020-05-28T08:56:33.625862Z",
     "start_time": "2020-05-28T08:47:01.943766Z"
    },
    "scrolled": false
   },
   "outputs": [],
   "source": [
    "# Comment out incase accidentally re-run\n",
    "# Initialize variables\n",
    "dict_files = dict()\n",
    "df = pd.DataFrame()\n",
    "# Assign pattern to the following variables for Month and Year\n",
    "pattern_mnth = (r'(January|February|March|April|May|June|July|August|'\n",
    "                'September|October|November|December|Mar|Jan|Apr|Jun|Feb)')\n",
    "pattern_year = r'(2012|2013|2014|2015|2016|2017|2018|2019|2020)'\n",
    "# Create \n",
    "for file in files:\n",
    "    path = root + file\n",
    "    match_month = re.findall(pattern_mnth, file)\n",
    "    match_year = re.findall(pattern_year, file)\n",
    "    dict_files[files.index(file)] = {'file': file,\n",
    "                                     'month': ' to '.join(match_month),\n",
    "                                     'year': ' to '.join(match_year),\n",
    "                                     'sheets': (load_workbook(path,\n",
    "                                                              read_only=True)\n",
    "                                                .sheetnames)}"
   ]
  },
  {
   "cell_type": "code",
   "execution_count": 7,
   "metadata": {
    "ExecuteTime": {
     "end_time": "2020-05-28T08:57:02.716036Z",
     "start_time": "2020-05-28T08:57:02.691090Z"
    }
   },
   "outputs": [
    {
     "data": {
      "text/html": [
       "<div>\n",
       "<style scoped>\n",
       "    .dataframe tbody tr th:only-of-type {\n",
       "        vertical-align: middle;\n",
       "    }\n",
       "\n",
       "    .dataframe tbody tr th {\n",
       "        vertical-align: top;\n",
       "    }\n",
       "\n",
       "    .dataframe thead th {\n",
       "        text-align: right;\n",
       "    }\n",
       "</style>\n",
       "<table border=\"1\" class=\"dataframe\">\n",
       "  <thead>\n",
       "    <tr style=\"text-align: right;\">\n",
       "      <th></th>\n",
       "      <th>file</th>\n",
       "      <th>month</th>\n",
       "      <th>year</th>\n",
       "      <th>sheets</th>\n",
       "    </tr>\n",
       "  </thead>\n",
       "  <tbody>\n",
       "    <tr>\n",
       "      <th>0</th>\n",
       "      <td>DailyFiledEntriesforApril2020.xlsx</td>\n",
       "      <td>April</td>\n",
       "      <td>2020</td>\n",
       "      <td>[Export Worksheet, SQL]</td>\n",
       "    </tr>\n",
       "    <tr>\n",
       "      <th>1</th>\n",
       "      <td>DailyFiledEntriesforJanuary2020.xlsx</td>\n",
       "      <td>January</td>\n",
       "      <td>2020</td>\n",
       "      <td>[Export Worksheet]</td>\n",
       "    </tr>\n",
       "    <tr>\n",
       "      <th>2</th>\n",
       "      <td>DailyFiledEntriesforDecember2019.xlsx</td>\n",
       "      <td>December</td>\n",
       "      <td>2019</td>\n",
       "      <td>[Export Worksheet]</td>\n",
       "    </tr>\n",
       "    <tr>\n",
       "      <th>3</th>\n",
       "      <td>DailyFiledEntriesforSeptember2019.xlsx</td>\n",
       "      <td>September</td>\n",
       "      <td>2019</td>\n",
       "      <td>[Export Worksheet]</td>\n",
       "    </tr>\n",
       "    <tr>\n",
       "      <th>4</th>\n",
       "      <td>DailyFiledEntriesforAugust2019.xlsx</td>\n",
       "      <td>August</td>\n",
       "      <td>2019</td>\n",
       "      <td>[Export Worksheet]</td>\n",
       "    </tr>\n",
       "    <tr>\n",
       "      <th>...</th>\n",
       "      <td>...</td>\n",
       "      <td>...</td>\n",
       "      <td>...</td>\n",
       "      <td>...</td>\n",
       "    </tr>\n",
       "    <tr>\n",
       "      <th>88</th>\n",
       "      <td>DailyFiledEntriesforJanuarytoMarch-2013.xlsx</td>\n",
       "      <td>January to March</td>\n",
       "      <td>2013</td>\n",
       "      <td>[Export Worksheet]</td>\n",
       "    </tr>\n",
       "    <tr>\n",
       "      <th>89</th>\n",
       "      <td>DailyFiledEntriesforOctobertoDecember-2012.xlsx</td>\n",
       "      <td>October to December</td>\n",
       "      <td>2012</td>\n",
       "      <td>[Export Worksheet]</td>\n",
       "    </tr>\n",
       "    <tr>\n",
       "      <th>90</th>\n",
       "      <td>DailyFiledEntriesforJulytoSeptember-2012.xlsx</td>\n",
       "      <td>July to September</td>\n",
       "      <td>2012</td>\n",
       "      <td>[Export Worksheet]</td>\n",
       "    </tr>\n",
       "    <tr>\n",
       "      <th>91</th>\n",
       "      <td>DailyFiledEntriesforApriltoJune-2012.xlsx</td>\n",
       "      <td>April to June</td>\n",
       "      <td>2012</td>\n",
       "      <td>[Export Worksheet]</td>\n",
       "    </tr>\n",
       "    <tr>\n",
       "      <th>92</th>\n",
       "      <td>DailyFiledEntriesforJanuarytoMarch-2012.xlsx</td>\n",
       "      <td>January to March</td>\n",
       "      <td>2012</td>\n",
       "      <td>[Export Worksheet]</td>\n",
       "    </tr>\n",
       "  </tbody>\n",
       "</table>\n",
       "<p>93 rows × 4 columns</p>\n",
       "</div>"
      ],
      "text/plain": [
       "                                               file                month  \\\n",
       "0                DailyFiledEntriesforApril2020.xlsx                April   \n",
       "1              DailyFiledEntriesforJanuary2020.xlsx              January   \n",
       "2             DailyFiledEntriesforDecember2019.xlsx             December   \n",
       "3            DailyFiledEntriesforSeptember2019.xlsx            September   \n",
       "4               DailyFiledEntriesforAugust2019.xlsx               August   \n",
       "..                                              ...                  ...   \n",
       "88     DailyFiledEntriesforJanuarytoMarch-2013.xlsx     January to March   \n",
       "89  DailyFiledEntriesforOctobertoDecember-2012.xlsx  October to December   \n",
       "90    DailyFiledEntriesforJulytoSeptember-2012.xlsx    July to September   \n",
       "91        DailyFiledEntriesforApriltoJune-2012.xlsx        April to June   \n",
       "92     DailyFiledEntriesforJanuarytoMarch-2012.xlsx     January to March   \n",
       "\n",
       "    year                   sheets  \n",
       "0   2020  [Export Worksheet, SQL]  \n",
       "1   2020       [Export Worksheet]  \n",
       "2   2019       [Export Worksheet]  \n",
       "3   2019       [Export Worksheet]  \n",
       "4   2019       [Export Worksheet]  \n",
       "..   ...                      ...  \n",
       "88  2013       [Export Worksheet]  \n",
       "89  2012       [Export Worksheet]  \n",
       "90  2012       [Export Worksheet]  \n",
       "91  2012       [Export Worksheet]  \n",
       "92  2012       [Export Worksheet]  \n",
       "\n",
       "[93 rows x 4 columns]"
      ]
     },
     "execution_count": 7,
     "metadata": {},
     "output_type": "execute_result"
    }
   ],
   "source": [
    "# Convert dictionary to a dataframe\n",
    "df.from_dict(dict_files, orient='index')"
   ]
  },
  {
   "cell_type": "code",
   "execution_count": 8,
   "metadata": {
    "ExecuteTime": {
     "end_time": "2020-05-28T08:57:03.678513Z",
     "start_time": "2020-05-28T08:57:03.656321Z"
    }
   },
   "outputs": [
    {
     "data": {
      "text/html": [
       "<div>\n",
       "<style scoped>\n",
       "    .dataframe tbody tr th:only-of-type {\n",
       "        vertical-align: middle;\n",
       "    }\n",
       "\n",
       "    .dataframe tbody tr th {\n",
       "        vertical-align: top;\n",
       "    }\n",
       "\n",
       "    .dataframe thead th {\n",
       "        text-align: right;\n",
       "    }\n",
       "</style>\n",
       "<table border=\"1\" class=\"dataframe\">\n",
       "  <thead>\n",
       "    <tr style=\"text-align: right;\">\n",
       "      <th></th>\n",
       "      <th>file</th>\n",
       "      <th>month</th>\n",
       "      <th>year</th>\n",
       "      <th>sheets</th>\n",
       "      <th>number_of_sheets</th>\n",
       "    </tr>\n",
       "  </thead>\n",
       "  <tbody>\n",
       "    <tr>\n",
       "      <th>0</th>\n",
       "      <td>DailyFiledEntriesforApril2020.xlsx</td>\n",
       "      <td>April</td>\n",
       "      <td>2020</td>\n",
       "      <td>[Export Worksheet, SQL]</td>\n",
       "      <td>2</td>\n",
       "    </tr>\n",
       "    <tr>\n",
       "      <th>29</th>\n",
       "      <td>Customs-Entries-for-September-2014.xlsx</td>\n",
       "      <td>September</td>\n",
       "      <td>2014</td>\n",
       "      <td>[Sheet1, Sheet2, Sheet3]</td>\n",
       "      <td>3</td>\n",
       "    </tr>\n",
       "    <tr>\n",
       "      <th>52</th>\n",
       "      <td>Customs-Entries-for-November-2014-Complete.xlsx</td>\n",
       "      <td>November</td>\n",
       "      <td>2014</td>\n",
       "      <td>[Sheet1, Sheet2, Sheet3]</td>\n",
       "      <td>3</td>\n",
       "    </tr>\n",
       "    <tr>\n",
       "      <th>65</th>\n",
       "      <td>Daily-Filed-Entries-for-February-2017.xlsx</td>\n",
       "      <td>February</td>\n",
       "      <td>2017</td>\n",
       "      <td>[Export Worksheet, Sheet1]</td>\n",
       "      <td>2</td>\n",
       "    </tr>\n",
       "  </tbody>\n",
       "</table>\n",
       "</div>"
      ],
      "text/plain": [
       "                                               file      month  year  \\\n",
       "0                DailyFiledEntriesforApril2020.xlsx      April  2020   \n",
       "29          Customs-Entries-for-September-2014.xlsx  September  2014   \n",
       "52  Customs-Entries-for-November-2014-Complete.xlsx   November  2014   \n",
       "65       Daily-Filed-Entries-for-February-2017.xlsx   February  2017   \n",
       "\n",
       "                        sheets  number_of_sheets  \n",
       "0      [Export Worksheet, SQL]                 2  \n",
       "29    [Sheet1, Sheet2, Sheet3]                 3  \n",
       "52    [Sheet1, Sheet2, Sheet3]                 3  \n",
       "65  [Export Worksheet, Sheet1]                 2  "
      ]
     },
     "execution_count": 8,
     "metadata": {},
     "output_type": "execute_result"
    }
   ],
   "source": [
    "# Identify files for investigation\n",
    "df = df.from_dict(dict_files, orient='index')\n",
    "df['number_of_sheets'] = df['sheets'].apply(lambda x: len(x))\n",
    "df['number_of_sheets'].value_counts()\n",
    "investigate = df[df['number_of_sheets']>1]\n",
    "\n",
    "# Investigate those with sheets greater than 1.\n",
    "investigate"
   ]
  },
  {
   "cell_type": "code",
   "execution_count": 9,
   "metadata": {
    "ExecuteTime": {
     "end_time": "2020-05-28T09:01:26.666731Z",
     "start_time": "2020-05-28T08:57:05.907354Z"
    }
   },
   "outputs": [],
   "source": [
    "# Comment out incase accidentally re-run\n",
    "# Check contents of the following files\n",
    "investigate_list = investigate['file'].to_list()\n",
    "\n",
    "# Initialize variables\n",
    "dict_investigate = dict()\n",
    "\n",
    "for file in investigate_list:\n",
    "    path = root + file\n",
    "    xls = pd.ExcelFile(path)\n",
    "    sheets = [(xls.sheet_names[i], xls.parse(i).size)\n",
    "              for i in range(len(xls.sheet_names)-1)]\n",
    "    dict_investigate[investigate_list.index(file)] = {'file': file, \n",
    "                                                      'sheets': sheets}"
   ]
  },
  {
   "cell_type": "code",
   "execution_count": 10,
   "metadata": {
    "ExecuteTime": {
     "end_time": "2020-05-28T09:01:33.232823Z",
     "start_time": "2020-05-28T09:01:33.078234Z"
    }
   },
   "outputs": [
    {
     "data": {
      "text/html": [
       "<div>\n",
       "<style scoped>\n",
       "    .dataframe tbody tr th:only-of-type {\n",
       "        vertical-align: middle;\n",
       "    }\n",
       "\n",
       "    .dataframe tbody tr th {\n",
       "        vertical-align: top;\n",
       "    }\n",
       "\n",
       "    .dataframe thead th {\n",
       "        text-align: right;\n",
       "    }\n",
       "</style>\n",
       "<table border=\"1\" class=\"dataframe\">\n",
       "  <thead>\n",
       "    <tr style=\"text-align: right;\">\n",
       "      <th></th>\n",
       "      <th>file</th>\n",
       "      <th>month</th>\n",
       "      <th>year</th>\n",
       "      <th>sheets</th>\n",
       "      <th>month_year</th>\n",
       "    </tr>\n",
       "  </thead>\n",
       "  <tbody>\n",
       "    <tr>\n",
       "      <th>0</th>\n",
       "      <td>DailyFiledEntriesforApril2020.xlsx</td>\n",
       "      <td>April</td>\n",
       "      <td>2020</td>\n",
       "      <td>Export Worksheet</td>\n",
       "      <td>April-2020</td>\n",
       "    </tr>\n",
       "    <tr>\n",
       "      <th>1</th>\n",
       "      <td>DailyFiledEntriesforJanuary2020.xlsx</td>\n",
       "      <td>January</td>\n",
       "      <td>2020</td>\n",
       "      <td>Export Worksheet</td>\n",
       "      <td>January-2020</td>\n",
       "    </tr>\n",
       "    <tr>\n",
       "      <th>2</th>\n",
       "      <td>DailyFiledEntriesforDecember2019.xlsx</td>\n",
       "      <td>December</td>\n",
       "      <td>2019</td>\n",
       "      <td>Export Worksheet</td>\n",
       "      <td>December-2019</td>\n",
       "    </tr>\n",
       "    <tr>\n",
       "      <th>3</th>\n",
       "      <td>DailyFiledEntriesforSeptember2019.xlsx</td>\n",
       "      <td>September</td>\n",
       "      <td>2019</td>\n",
       "      <td>Export Worksheet</td>\n",
       "      <td>September-2019</td>\n",
       "    </tr>\n",
       "    <tr>\n",
       "      <th>4</th>\n",
       "      <td>DailyFiledEntriesforAugust2019.xlsx</td>\n",
       "      <td>August</td>\n",
       "      <td>2019</td>\n",
       "      <td>Export Worksheet</td>\n",
       "      <td>August-2019</td>\n",
       "    </tr>\n",
       "    <tr>\n",
       "      <th>...</th>\n",
       "      <td>...</td>\n",
       "      <td>...</td>\n",
       "      <td>...</td>\n",
       "      <td>...</td>\n",
       "      <td>...</td>\n",
       "    </tr>\n",
       "    <tr>\n",
       "      <th>88</th>\n",
       "      <td>DailyFiledEntriesforJanuarytoMarch-2013.xlsx</td>\n",
       "      <td>January to March</td>\n",
       "      <td>2013</td>\n",
       "      <td>Export Worksheet</td>\n",
       "      <td>January to March-2013</td>\n",
       "    </tr>\n",
       "    <tr>\n",
       "      <th>89</th>\n",
       "      <td>DailyFiledEntriesforOctobertoDecember-2012.xlsx</td>\n",
       "      <td>October to December</td>\n",
       "      <td>2012</td>\n",
       "      <td>Export Worksheet</td>\n",
       "      <td>October to December-2012</td>\n",
       "    </tr>\n",
       "    <tr>\n",
       "      <th>90</th>\n",
       "      <td>DailyFiledEntriesforJulytoSeptember-2012.xlsx</td>\n",
       "      <td>July to September</td>\n",
       "      <td>2012</td>\n",
       "      <td>Export Worksheet</td>\n",
       "      <td>July to September-2012</td>\n",
       "    </tr>\n",
       "    <tr>\n",
       "      <th>91</th>\n",
       "      <td>DailyFiledEntriesforApriltoJune-2012.xlsx</td>\n",
       "      <td>April to June</td>\n",
       "      <td>2012</td>\n",
       "      <td>Export Worksheet</td>\n",
       "      <td>April to June-2012</td>\n",
       "    </tr>\n",
       "    <tr>\n",
       "      <th>92</th>\n",
       "      <td>DailyFiledEntriesforJanuarytoMarch-2012.xlsx</td>\n",
       "      <td>January to March</td>\n",
       "      <td>2012</td>\n",
       "      <td>Export Worksheet</td>\n",
       "      <td>January to March-2012</td>\n",
       "    </tr>\n",
       "  </tbody>\n",
       "</table>\n",
       "<p>93 rows × 5 columns</p>\n",
       "</div>"
      ],
      "text/plain": [
       "                                               file                month  \\\n",
       "0                DailyFiledEntriesforApril2020.xlsx                April   \n",
       "1              DailyFiledEntriesforJanuary2020.xlsx              January   \n",
       "2             DailyFiledEntriesforDecember2019.xlsx             December   \n",
       "3            DailyFiledEntriesforSeptember2019.xlsx            September   \n",
       "4               DailyFiledEntriesforAugust2019.xlsx               August   \n",
       "..                                              ...                  ...   \n",
       "88     DailyFiledEntriesforJanuarytoMarch-2013.xlsx     January to March   \n",
       "89  DailyFiledEntriesforOctobertoDecember-2012.xlsx  October to December   \n",
       "90    DailyFiledEntriesforJulytoSeptember-2012.xlsx    July to September   \n",
       "91        DailyFiledEntriesforApriltoJune-2012.xlsx        April to June   \n",
       "92     DailyFiledEntriesforJanuarytoMarch-2012.xlsx     January to March   \n",
       "\n",
       "    year            sheets                month_year  \n",
       "0   2020  Export Worksheet                April-2020  \n",
       "1   2020  Export Worksheet              January-2020  \n",
       "2   2019  Export Worksheet             December-2019  \n",
       "3   2019  Export Worksheet            September-2019  \n",
       "4   2019  Export Worksheet               August-2019  \n",
       "..   ...               ...                       ...  \n",
       "88  2013  Export Worksheet     January to March-2013  \n",
       "89  2012  Export Worksheet  October to December-2012  \n",
       "90  2012  Export Worksheet    July to September-2012  \n",
       "91  2012  Export Worksheet        April to June-2012  \n",
       "92  2012  Export Worksheet     January to March-2012  \n",
       "\n",
       "[93 rows x 5 columns]"
      ]
     },
     "execution_count": 10,
     "metadata": {},
     "output_type": "execute_result"
    }
   ],
   "source": [
    "# Update list of files to be converted to csv\n",
    "files_df = df\n",
    "for file in investigate_list:\n",
    "    files_df.loc[files_df['file'] == file,['sheets']] =  df['sheets'].map(lambda x: x[0])\n",
    "files_df['sheets'] = files_df['sheets'].str.join('')\n",
    "files_df.loc[files_df['year']=='2014 to 2014',['year']] = '2014'\n",
    "files_df['month_year'] = files_df[['month', 'year']].agg('-'.join, axis=1)\n",
    "files_df = files_df.drop('number_of_sheets', axis=1)"
   ]
  },
  {
   "cell_type": "code",
   "execution_count": 30,
   "metadata": {
    "ExecuteTime": {
     "end_time": "2020-05-28T14:11:54.143145Z",
     "start_time": "2020-05-28T14:11:54.138165Z"
    }
   },
   "outputs": [],
   "source": [
    "# Save list of files to csv to Misc folder\n",
    "files_df.to_csv('../misc/List_of_Files.csv',index=False)"
   ]
  },
  {
   "cell_type": "code",
   "execution_count": 12,
   "metadata": {
    "ExecuteTime": {
     "end_time": "2020-05-28T09:01:41.785539Z",
     "start_time": "2020-05-28T09:01:41.777682Z"
    }
   },
   "outputs": [
    {
     "data": {
      "text/plain": [
       "year\n",
       "2012     4\n",
       "2013     8\n",
       "2014    17\n",
       "2015    12\n",
       "2016    12\n",
       "2017    12\n",
       "2018    12\n",
       "2019    12\n",
       "2020     4\n",
       "dtype: int64"
      ]
     },
     "execution_count": 12,
     "metadata": {},
     "output_type": "execute_result"
    }
   ],
   "source": [
    "# Check file count per year\n",
    "files_df.groupby(['year']).size()"
   ]
  },
  {
   "cell_type": "code",
   "execution_count": 13,
   "metadata": {
    "ExecuteTime": {
     "end_time": "2020-05-28T09:01:42.909729Z",
     "start_time": "2020-05-28T09:01:42.901276Z"
    }
   },
   "outputs": [
    {
     "data": {
      "text/plain": [
       "month\n",
       "Apr          1\n",
       "August       1\n",
       "December     1\n",
       "Feb          1\n",
       "Jan          1\n",
       "January      5\n",
       "July         1\n",
       "June         1\n",
       "Mar          1\n",
       "May          1\n",
       "November     1\n",
       "October      1\n",
       "September    1\n",
       "dtype: int64"
      ]
     },
     "execution_count": 13,
     "metadata": {},
     "output_type": "execute_result"
    }
   ],
   "source": [
    "# Check file count per month from year 2014\n",
    "files_df[files_df['year']=='2014'].groupby('month').size()"
   ]
  },
  {
   "cell_type": "code",
   "execution_count": 16,
   "metadata": {
    "ExecuteTime": {
     "end_time": "2020-05-28T09:03:18.145914Z",
     "start_time": "2020-05-28T09:03:18.139082Z"
    }
   },
   "outputs": [],
   "source": [
    "# Convert the following files to csv and save it in converted_csv folder\n",
    "def csv_from_excel():\n",
    "    for file in files:\n",
    "        path = root + file\n",
    "        wb = openpyxl.load_workbook(root+file, read_only=True)\n",
    "        ws = wb[files_df[files_df['file']==file]['sheets'].values[0]]\n",
    "        output = ('../converted_csv_data/' +\n",
    "                  file.replace('.xlsx','') +\n",
    "                  '_' +\n",
    "                  'Customs_Data_' + \n",
    "                  files_df[files_df['file']==file]['month_year'].values[0] + \n",
    "                  '.csv')\n",
    "        with open(output, 'w') as f:\n",
    "            c = csv.writer(f)\n",
    "            for r in ws.rows:\n",
    "                c.writerow([cell.value for cell in r])"
   ]
  },
  {
   "cell_type": "code",
   "execution_count": 18,
   "metadata": {
    "ExecuteTime": {
     "end_time": "2020-05-28T11:50:51.971469Z",
     "start_time": "2020-05-28T09:03:40.531971Z"
    }
   },
   "outputs": [],
   "source": [
    "# Uncomment to convert csv_from_excel\n",
    "# Runs the csv_from_excel function:\n",
    "csv_from_excel()\n"
   ]
  },
  {
   "cell_type": "code",
   "execution_count": 3,
   "metadata": {
    "ExecuteTime": {
     "end_time": "2020-05-29T03:27:36.815886Z",
     "start_time": "2020-05-29T03:27:36.802821Z"
    }
   },
   "outputs": [
    {
     "data": {
      "text/plain": [
       "93"
      ]
     },
     "execution_count": 3,
     "metadata": {},
     "output_type": "execute_result"
    }
   ],
   "source": [
    "csv = os.listdir('../converted_csv_data/')\n",
    "csv = [file for file in csv if '.csv' in file]\n",
    "len(csv)"
   ]
  }
 ],
 "metadata": {
  "kernelspec": {
   "display_name": "Python 3",
   "language": "python",
   "name": "python3"
  },
  "language_info": {
   "codemirror_mode": {
    "name": "ipython",
    "version": 3
   },
   "file_extension": ".py",
   "mimetype": "text/x-python",
   "name": "python",
   "nbconvert_exporter": "python",
   "pygments_lexer": "ipython3",
   "version": "3.7.6"
  }
 },
 "nbformat": 4,
 "nbformat_minor": 4
}
