{
 "cells": [
  {
   "cell_type": "code",
   "execution_count": 1,
   "metadata": {
    "ExecuteTime": {
     "end_time": "2020-06-04T10:03:07.015003Z",
     "start_time": "2020-06-04T10:03:06.758339Z"
    }
   },
   "outputs": [],
   "source": [
    "import os\n",
    "import re\n",
    "import pandas as pd"
   ]
  },
  {
   "cell_type": "markdown",
   "metadata": {},
   "source": [
    "## Data Preparation\n",
    "\n",
    "Perform data manipulation on the csv files in the path `../converted_csv_data`. The scope of the data manipulation are as follows:\n",
    "\n",
    "- Append the data in scope per year\n",
    "- Add month and year column per file\n",
    "- Store the files in `../post_processed_data`"
   ]
  },
  {
   "cell_type": "code",
   "execution_count": 2,
   "metadata": {
    "ExecuteTime": {
     "end_time": "2020-06-04T10:03:07.019232Z",
     "start_time": "2020-06-04T10:03:07.016902Z"
    }
   },
   "outputs": [],
   "source": [
    "path = '../converted_csv_data/'\n",
    "output = '../processed_data/'"
   ]
  },
  {
   "cell_type": "code",
   "execution_count": 3,
   "metadata": {
    "ExecuteTime": {
     "end_time": "2020-06-04T10:03:07.024303Z",
     "start_time": "2020-06-04T10:03:07.021059Z"
    }
   },
   "outputs": [],
   "source": [
    "# Create directories\n",
    "current_wd = os.getcwd() #Path of current working directory\n",
    "try:\n",
    "    os.mkdir('{}/processed_data'.format(os.path.dirname(current_wd)))\n",
    "except:\n",
    "    pass\n"
   ]
  },
  {
   "cell_type": "code",
   "execution_count": 4,
   "metadata": {
    "ExecuteTime": {
     "end_time": "2020-06-04T10:03:07.038858Z",
     "start_time": "2020-06-04T10:03:07.027296Z"
    }
   },
   "outputs": [
    {
     "data": {
      "text/plain": [
       "93"
      ]
     },
     "execution_count": 4,
     "metadata": {},
     "output_type": "execute_result"
    }
   ],
   "source": [
    "csv = os.listdir('../converted_csv_data/')\n",
    "csv = [file for file in csv if '.csv' in file]\n",
    "len(csv)"
   ]
  },
  {
   "cell_type": "code",
   "execution_count": 5,
   "metadata": {
    "ExecuteTime": {
     "end_time": "2020-06-04T10:03:07.045074Z",
     "start_time": "2020-06-04T10:03:07.041010Z"
    }
   },
   "outputs": [],
   "source": [
    "csv_dict = dict()\n",
    "for file in csv:\n",
    "    filepath = path + file\n",
    "    pattern = r'Customs_Data_[-\\w ]*-(\\d{4})'\n",
    "    pattern2 = r'Customs_Data_([-\\w ]*)-'\n",
    "    csv_dict[file] = {'file': path+file,\n",
    "                      'year': re.findall(pattern, file)[0],\n",
    "                      'month': re.findall(pattern2, file)[0]}"
   ]
  },
  {
   "cell_type": "code",
   "execution_count": 6,
   "metadata": {
    "ExecuteTime": {
     "end_time": "2020-06-04T10:03:07.053942Z",
     "start_time": "2020-06-04T10:03:07.046563Z"
    }
   },
   "outputs": [],
   "source": [
    "# Convert dictionary to a dataframe\n",
    "csv_df = pd.DataFrame()\n",
    "csv_df = csv_df.from_dict(csv_dict, orient='index').reset_index()\n",
    "csv_df['year'] = csv_df['year'].astype(int)"
   ]
  },
  {
   "cell_type": "code",
   "execution_count": 7,
   "metadata": {
    "ExecuteTime": {
     "end_time": "2020-06-04T10:03:07.061238Z",
     "start_time": "2020-06-04T10:03:07.055336Z"
    }
   },
   "outputs": [
    {
     "data": {
      "text/plain": [
       "year\n",
       "2012     4\n",
       "2013     8\n",
       "2014    17\n",
       "2015    12\n",
       "2016    12\n",
       "2017    12\n",
       "2018    12\n",
       "2019    12\n",
       "2020     4\n",
       "dtype: int64"
      ]
     },
     "execution_count": 7,
     "metadata": {},
     "output_type": "execute_result"
    }
   ],
   "source": [
    "csv_df.groupby('year').size()"
   ]
  },
  {
   "cell_type": "markdown",
   "metadata": {},
   "source": [
    "### For the purposes of this project, we will only include 2016 up to 2020 data which is a total of 52 files."
   ]
  },
  {
   "cell_type": "code",
   "execution_count": 8,
   "metadata": {
    "ExecuteTime": {
     "end_time": "2020-06-04T10:03:07.068000Z",
     "start_time": "2020-06-04T10:03:07.062689Z"
    }
   },
   "outputs": [],
   "source": [
    "scope = csv_df[csv_df['year']>=2016]\n",
    "scope = scope.drop('index', axis=1)\n",
    "scope = scope.sort_values('year')\n",
    "scope = scope.reset_index(drop=True)"
   ]
  },
  {
   "cell_type": "code",
   "execution_count": 9,
   "metadata": {
    "ExecuteTime": {
     "end_time": "2020-06-04T10:03:07.690885Z",
     "start_time": "2020-06-04T10:03:07.069636Z"
    }
   },
   "outputs": [],
   "source": [
    "for idx, file in enumerate(scope['file']):\n",
    "    temp = pd.read_csv(file, nrows=100).dropna(axis=1, how='all')\n",
    "    temp_columns = len(temp.columns)\n",
    "    scope.loc[idx,'num_of_columns'] = temp_columns\n",
    "    \n"
   ]
  },
  {
   "cell_type": "code",
   "execution_count": 10,
   "metadata": {
    "ExecuteTime": {
     "end_time": "2020-06-04T10:03:07.702860Z",
     "start_time": "2020-06-04T10:03:07.694153Z"
    }
   },
   "outputs": [],
   "source": [
    "def append_df(files):\n",
    "    \"\"\"\n",
    "    Accepts a list of files in `files` and returns an appended\n",
    "    `pandas` `DataFrame` of all files in `files`\n",
    "\n",
    "    Adds month and year data in the columns.\n",
    "    \"\"\"\n",
    "    df_append = pd.DataFrame()\n",
    "    for i in range(len(files)):\n",
    "        df = (pd.read_csv(files[i]).dropna(axis=1, how='all')\n",
    "                                   .dropna(axis=0, how='all'))\n",
    "        df['month'] = scope.loc[scope['file'] == files[i], 'month'].values[0]\n",
    "        df['year'] = scope.loc[scope['file'] == files[i], 'year'].values[0]\n",
    "        if i == 0:\n",
    "            df_append = df\n",
    "        else:\n",
    "            df_append = df_append.append(df, ignore_index=True)\n",
    "    return df_append"
   ]
  },
  {
   "cell_type": "code",
   "execution_count": 23,
   "metadata": {
    "ExecuteTime": {
     "end_time": "2020-06-04T10:21:01.595664Z",
     "start_time": "2020-06-04T10:20:34.248876Z"
    }
   },
   "outputs": [],
   "source": [
    "# Create a csv file for 2016 data and saves it to ../processed_data\n",
    "month = [\"July\", \"August\", \"September\", \"October\", \"November\", \"December\"]\n",
    "files_2016 = scope[(scope['year']==2016) &\n",
    "                   (scope['month'].isin(month))]['file'].to_list()\n",
    "df = append_df(files_2016)"
   ]
  },
  {
   "cell_type": "code",
   "execution_count": 24,
   "metadata": {
    "ExecuteTime": {
     "end_time": "2020-06-04T10:21:36.317251Z",
     "start_time": "2020-06-04T10:21:01.598663Z"
    }
   },
   "outputs": [],
   "source": [
    "# Post processing of 2016 data\n",
    "\n",
    "# Read the following columns and rename them for consistency\n",
    "df = df[['HSCODE', 'COUNTRYORIGIN', 'COUNTRYEXPORT',\n",
    "         'GROSSMASS', 'NETMASS', 'CUSTOMSVALUE',\n",
    "         'CURRENCY', 'DUTIABLE_FOREIGN', 'EXCHANGE_RATE',\n",
    "         'DUTIABLEVALUE_PHP', 'FREIGHT', 'INSURANCE',\n",
    "         'ARRASTRE', 'PREF_CODE', 'DUTY_PAID', 'VAT_BASE',\n",
    "         'VAT_PAID', 'EXCISE_ADVALOREM_PAID', 'DUTIESTAXES',\n",
    "         'GOODS_DESCRIPTION', 'month', 'year']]\n",
    "\n",
    "df.columns = ['HSCODE', 'COUNTRYORIGIN', 'COUNTRYEXPORT', \n",
    "              'GROSSMASSKGS', 'NETMASSKGS', 'CUSTOMSVALUE', \n",
    "              'CURRENCY', 'DUTIABLE_FOREIGN', 'EXCHANGE_RATE', \n",
    "              'DUTIABLEVALUEPHP', 'FREIGHT', 'INSURANCE', \n",
    "              'ARRASTRE', 'PREF_CODE', 'DUTY_PAID', 'VATTAXBASE',\n",
    "              'VAT_PAID', 'EXCISEADVALOREM', 'DUTIESTAXES', \n",
    "              'GOODSDESCRIPTION', 'month', 'year']\n",
    "\n",
    "df['HSCODE'] = df['HSCODE'].astype(int)\n",
    "# Create a df_2016.csv file\n",
    "output_file = output + 'df_2016.csv'\n",
    "df.to_csv(output_file, index=False)\n"
   ]
  },
  {
   "cell_type": "code",
   "execution_count": 13,
   "metadata": {
    "ExecuteTime": {
     "end_time": "2020-06-04T10:07:47.179112Z",
     "start_time": "2020-06-04T10:04:07.714099Z"
    }
   },
   "outputs": [
    {
     "name": "stderr",
     "output_type": "stream",
     "text": [
      "/opt/conda/lib/python3.7/site-packages/IPython/core/interactiveshell.py:3254: DtypeWarning: Columns (13) have mixed types.Specify dtype option on import or set low_memory=False.\n",
      "  if (await self.run_code(code, result,  async_=asy)):\n"
     ]
    }
   ],
   "source": [
    "# Create a csv file for 2017 data and saves it to ../processed_data\n",
    "output_file = output + 'df_2017_complete.csv'\n",
    "files_2017 = scope[scope['year']==2017]['file'].to_list()\n",
    "append_df(files_2017).to_csv(output_file, index=False)"
   ]
  },
  {
   "cell_type": "code",
   "execution_count": 14,
   "metadata": {
    "ExecuteTime": {
     "end_time": "2020-06-04T10:09:08.837498Z",
     "start_time": "2020-06-04T10:07:47.181819Z"
    }
   },
   "outputs": [
    {
     "name": "stderr",
     "output_type": "stream",
     "text": [
      "/opt/conda/lib/python3.7/site-packages/IPython/core/interactiveshell.py:3063: DtypeWarning: Columns (13,42) have mixed types.Specify dtype option on import or set low_memory=False.\n",
      "  interactivity=interactivity, compiler=compiler, result=result)\n"
     ]
    }
   ],
   "source": [
    "# Post processing of 2017 data\n",
    "# Read the following columns and rename them for consistency\n",
    "df = pd.read_csv(output_file,\n",
    "                 usecols=['HSCODE', 'COUNTRYORIGIN', 'COUNTRYEXPORT',\n",
    "                          'GROSSMASS', 'NETMASS', 'CUSTOMSVALUE',\n",
    "                          'CURRENCY', 'DUTIABLE_FOREIGN', 'EXCHANGE_RATE',\n",
    "                          'DUTIABLEVALUE_PHP', 'FREIGHT', 'INSURANCE',\n",
    "                          'ARRASTRE', 'PREF_CODE', 'DUTY_PAID', 'VAT_BASE',\n",
    "                          'VAT_PAID', 'EXCISE_ADVALOREM_PAID', 'DUTIESTAXES',\n",
    "                          'GOODS_DESCRIPTION', 'month', 'year'])\n",
    "\n",
    "df = df[['HSCODE', 'COUNTRYORIGIN', 'COUNTRYEXPORT',\n",
    "         'GROSSMASS', 'NETMASS', 'CUSTOMSVALUE', \n",
    "         'CURRENCY', 'DUTIABLE_FOREIGN', 'EXCHANGE_RATE', \n",
    "         'DUTIABLEVALUE_PHP', 'FREIGHT', 'INSURANCE', \n",
    "         'ARRASTRE', 'PREF_CODE', 'DUTY_PAID', 'VAT_BASE', \n",
    "         'VAT_PAID', 'EXCISE_ADVALOREM_PAID', 'DUTIESTAXES',  \n",
    "         'GOODS_DESCRIPTION', 'month', 'year']]\n",
    "\n",
    "df.columns=['HSCODE', 'COUNTRYORIGIN', 'COUNTRYEXPORT',\n",
    "            'GROSSMASSKGS', 'NETMASSKGS', 'CUSTOMSVALUE',\n",
    "            'CURRENCY', 'DUTIABLE_FOREIGN', 'EXCHANGE_RATE',\n",
    "            'DUTIABLEVALUEPHP', 'FREIGHT', 'INSURANCE',\n",
    "            'ARRASTRE', 'PREF_CODE', 'DUTY_PAID', 'VATTAXBASE',\n",
    "            'VAT_PAID', 'EXCISEADVALOREM', 'DUTIESTAXES',\n",
    "            'GOODSDESCRIPTION', 'month', 'year']\n",
    "\n",
    "# Create a df_2017.csv file\n",
    "output_file=output + 'df_2017.csv'\n",
    "df.to_csv(output_file, index=False)"
   ]
  },
  {
   "cell_type": "code",
   "execution_count": 15,
   "metadata": {
    "ExecuteTime": {
     "end_time": "2020-06-04T10:10:33.315201Z",
     "start_time": "2020-06-04T10:09:08.840954Z"
    }
   },
   "outputs": [],
   "source": [
    "# Create a csv file for 2018 data and saves it to ../processed_data\n",
    "output_file = output + 'df_2018.csv'\n",
    "files_2018 = scope[scope['year']==2018]['file'].to_list()\n",
    "append_df(files_2018).to_csv(output_file, index=False)"
   ]
  },
  {
   "cell_type": "code",
   "execution_count": 16,
   "metadata": {
    "ExecuteTime": {
     "end_time": "2020-06-04T10:11:08.070601Z",
     "start_time": "2020-06-04T10:10:33.317891Z"
    }
   },
   "outputs": [],
   "source": [
    "# Create a csv file for 2019 data and saves it to ../processed_data\n",
    "files_2019 = scope[scope['year']==2019]['file'].to_list()\n",
    "df = append_df(files_2019)"
   ]
  },
  {
   "cell_type": "code",
   "execution_count": 17,
   "metadata": {
    "ExecuteTime": {
     "end_time": "2020-06-04T10:11:13.093284Z",
     "start_time": "2020-06-04T10:11:08.073231Z"
    }
   },
   "outputs": [
    {
     "data": {
      "text/html": [
       "<div>\n",
       "<style scoped>\n",
       "    .dataframe tbody tr th:only-of-type {\n",
       "        vertical-align: middle;\n",
       "    }\n",
       "\n",
       "    .dataframe tbody tr th {\n",
       "        vertical-align: top;\n",
       "    }\n",
       "\n",
       "    .dataframe thead th {\n",
       "        text-align: right;\n",
       "    }\n",
       "</style>\n",
       "<table border=\"1\" class=\"dataframe\">\n",
       "  <thead>\n",
       "    <tr style=\"text-align: right;\">\n",
       "      <th></th>\n",
       "      <th>HSCODE</th>\n",
       "      <th>COUNTRYORIGIN</th>\n",
       "      <th>COUNTRYEXPORT</th>\n",
       "      <th>GROSSMASSKGS</th>\n",
       "      <th>NETMASSKGS</th>\n",
       "      <th>CUSTOMSVALUE</th>\n",
       "      <th>CURRENCY</th>\n",
       "      <th>DUTIABLE_FOREIGN</th>\n",
       "      <th>EXCHANGE_RATE</th>\n",
       "      <th>DUTIABLEVALUEPHP</th>\n",
       "      <th>...</th>\n",
       "      <th>ARRASTRE</th>\n",
       "      <th>PREF_CODE</th>\n",
       "      <th>DUTY_PAID</th>\n",
       "      <th>VATTAXBASE</th>\n",
       "      <th>VAT_PAID</th>\n",
       "      <th>EXCISEADVALOREM</th>\n",
       "      <th>DUTIESTAXES</th>\n",
       "      <th>GOODSDESCRIPTION</th>\n",
       "      <th>month</th>\n",
       "      <th>year</th>\n",
       "    </tr>\n",
       "  </thead>\n",
       "  <tbody>\n",
       "    <tr>\n",
       "      <th>903471</th>\n",
       "      <td>85331090000</td>\n",
       "      <td>JP</td>\n",
       "      <td>JAPAN</td>\n",
       "      <td>5.3</td>\n",
       "      <td>5.3</td>\n",
       "      <td>8.533109e+10</td>\n",
       "      <td>USD</td>\n",
       "      <td>8.533109e+10</td>\n",
       "      <td>52.522</td>\n",
       "      <td>4.481760e+12</td>\n",
       "      <td>...</td>\n",
       "      <td>0.0</td>\n",
       "      <td>NaN</td>\n",
       "      <td>0</td>\n",
       "      <td>4487361717889</td>\n",
       "      <td>538483406146</td>\n",
       "      <td>0</td>\n",
       "      <td>0</td>\n",
       "      <td>RESISTOR</td>\n",
       "      <td>May</td>\n",
       "      <td>2019</td>\n",
       "    </tr>\n",
       "  </tbody>\n",
       "</table>\n",
       "<p>1 rows × 22 columns</p>\n",
       "</div>"
      ],
      "text/plain": [
       "             HSCODE COUNTRYORIGIN COUNTRYEXPORT  GROSSMASSKGS  NETMASSKGS  \\\n",
       "903471  85331090000            JP         JAPAN           5.3         5.3   \n",
       "\n",
       "        CUSTOMSVALUE CURRENCY  DUTIABLE_FOREIGN  EXCHANGE_RATE  \\\n",
       "903471  8.533109e+10      USD      8.533109e+10         52.522   \n",
       "\n",
       "        DUTIABLEVALUEPHP  ...  ARRASTRE  PREF_CODE  DUTY_PAID     VATTAXBASE  \\\n",
       "903471      4.481760e+12  ...       0.0        NaN          0  4487361717889   \n",
       "\n",
       "            VAT_PAID  EXCISEADVALOREM  DUTIESTAXES  GOODSDESCRIPTION  month  \\\n",
       "903471  538483406146                0            0          RESISTOR    May   \n",
       "\n",
       "        year  \n",
       "903471  2019  \n",
       "\n",
       "[1 rows x 22 columns]"
      ]
     },
     "execution_count": 17,
     "metadata": {},
     "output_type": "execute_result"
    }
   ],
   "source": [
    "# Remove outlier\n",
    "df.sort_values(by='VAT_PAID', ascending=False).head(1)"
   ]
  },
  {
   "cell_type": "code",
   "execution_count": 18,
   "metadata": {
    "ExecuteTime": {
     "end_time": "2020-06-04T10:11:14.136903Z",
     "start_time": "2020-06-04T10:11:13.095068Z"
    }
   },
   "outputs": [
    {
     "name": "stdout",
     "output_type": "stream",
     "text": [
      "(3794776, 22) \n",
      "\n",
      "(3794775, 22)\n"
     ]
    }
   ],
   "source": [
    "print(df.shape, '\\n')\n",
    "df = df[df['VAT_PAID']!=538483406146]\n",
    "print (df.shape)"
   ]
  },
  {
   "cell_type": "code",
   "execution_count": 19,
   "metadata": {
    "ExecuteTime": {
     "end_time": "2020-06-04T10:12:17.198568Z",
     "start_time": "2020-06-04T10:11:14.138753Z"
    }
   },
   "outputs": [],
   "source": [
    "# Create a df_2019.csv file\n",
    "output_file = output + 'df_2019.csv'\n",
    "df.to_csv(output_file, index=False)"
   ]
  },
  {
   "cell_type": "code",
   "execution_count": 20,
   "metadata": {
    "ExecuteTime": {
     "end_time": "2020-06-04T10:12:37.634943Z",
     "start_time": "2020-06-04T10:12:17.201135Z"
    }
   },
   "outputs": [
    {
     "name": "stderr",
     "output_type": "stream",
     "text": [
      "/opt/conda/lib/python3.7/site-packages/IPython/core/interactiveshell.py:3254: DtypeWarning: Columns (13) have mixed types.Specify dtype option on import or set low_memory=False.\n",
      "  if (await self.run_code(code, result,  async_=asy)):\n"
     ]
    }
   ],
   "source": [
    "# Create a csv file for 2020 data and saves it to ../processed_data\n",
    "output_file = output + 'df_2020.csv'\n",
    "files_2020 = scope[scope['year']==2020]['file'].to_list()\n",
    "append_df(files_2020).to_csv(output_file, index=False)"
   ]
  }
 ],
 "metadata": {
  "kernelspec": {
   "display_name": "Python 3",
   "language": "python",
   "name": "python3"
  },
  "language_info": {
   "codemirror_mode": {
    "name": "ipython",
    "version": 3
   },
   "file_extension": ".py",
   "mimetype": "text/x-python",
   "name": "python",
   "nbconvert_exporter": "python",
   "pygments_lexer": "ipython3",
   "version": "3.7.6"
  }
 },
 "nbformat": 4,
 "nbformat_minor": 4
}
